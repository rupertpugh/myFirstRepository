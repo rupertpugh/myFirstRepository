{
 "cells": [
  {
   "cell_type": "code",
   "execution_count": null,
   "id": "650f3932-2074-40f7-827f-b0285cc9b35f",
   "metadata": {},
   "outputs": [],
   "source": [
    "# Data Science Tools and Ecosystem"
   ]
  },
  {
   "cell_type": "markdown",
   "id": "b247f52e-b925-4bc5-85a6-868cdff2280b",
   "metadata": {},
   "source": [
    "# Data Science Tools and Ecosystem"
   ]
  },
  {
   "cell_type": "markdown",
   "id": "052f967b-e407-4d54-98e7-229cdcc08d2a",
   "metadata": {},
   "source": [
    "In this notebook, Data Science Tools and Ecosystem are summarized"
   ]
  },
  {
   "cell_type": "markdown",
   "id": "6231085b-fc77-4f1a-8945-ac7e92262f35",
   "metadata": {},
   "source": [
    "**Objectives:**\n",
    "* List Popular Languages for Data Science\n",
    "* Commonly used Languages \n",
    "* Data Science Tools \n",
    "* Evaluating Expressions "
   ]
  },
  {
   "cell_type": "markdown",
   "id": "122c31e8-9c2f-4861-a66a-cb525c46b4b3",
   "metadata": {},
   "source": [
    "Some of the popular languages that Data Scientists use are:\n",
    "1. Python\n",
    "2. R\n",
    "3. C++\n",
    "4. Matlab "
   ]
  },
  {
   "cell_type": "markdown",
   "id": "45657d1d-2614-4e68-ba6d-49be5b717b9c",
   "metadata": {},
   "source": [
    "Some of the commonly used libraries used by Data Scientists include:\n",
    "1. ggplot2 (data visualisation in R)\n",
    "2. Lattice (graphics)\n",
    "3. NumPy (for maths)\n",
    "4. Pandas (data management)\n",
    "5. TensorFlow (deep learning)"
   ]
  },
  {
   "cell_type": "markdown",
   "id": "e51f1d18-afc5-4444-8764-171b4b5308c2",
   "metadata": {},
   "source": [
    "\n",
    " | Data Science Tools |\n",
    " | ---------- |\n",
    " | Anaconda |\n",
    " | RStudio |\n",
    " | VSCode |\n",
    " | Jupyter Notebook|\n",
    " "
   ]
  },
  {
   "cell_type": "markdown",
   "id": "3b02c006-1fad-4b73-ac93-44b789cd984e",
   "metadata": {},
   "source": [
    "### Below are a few examples of evaluating arithmetic expressions in Python"
   ]
  },
  {
   "cell_type": "code",
   "execution_count": 8,
   "id": "8a8c10e5-4e2b-4b7f-ade7-556c748e211d",
   "metadata": {},
   "outputs": [
    {
     "data": {
      "text/plain": [
       "17"
      ]
     },
     "execution_count": 8,
     "metadata": {},
     "output_type": "execute_result"
    }
   ],
   "source": [
    "# This a simple arithmetic expression to mutiply then add integers.\n",
    "(3*4)+5"
   ]
  },
  {
   "cell_type": "code",
   "execution_count": 9,
   "id": "bdf4cc53-fb17-474e-b1de-306a18427d37",
   "metadata": {},
   "outputs": [
    {
     "name": "stdout",
     "output_type": "stream",
     "text": [
      "3.3333333333333335\n"
     ]
    }
   ],
   "source": [
    "# This will convert 200 minutes to hours by diving by 60\n",
    "mins = 200\n",
    "hrs_mlt = 60\n",
    "print(mins/hrs_mlt)"
   ]
  },
  {
   "cell_type": "markdown",
   "id": "3266a0a2-c7d1-41f6-8ebe-806583aefdbd",
   "metadata": {},
   "source": [
    "## Author\n",
    "Rupert Pugh"
   ]
  },
  {
   "cell_type": "code",
   "execution_count": null,
   "id": "2b45d605-ccf6-4160-8032-c069febdad75",
   "metadata": {},
   "outputs": [],
   "source": []
  }
 ],
 "metadata": {
  "kernelspec": {
   "display_name": "Python [conda env:.conda-myenvironment1]",
   "language": "python",
   "name": "conda-env-.conda-myenvironment1-py"
  },
  "language_info": {
   "codemirror_mode": {
    "name": "ipython",
    "version": 3
   },
   "file_extension": ".py",
   "mimetype": "text/x-python",
   "name": "python",
   "nbconvert_exporter": "python",
   "pygments_lexer": "ipython3",
   "version": "3.13.7"
  }
 },
 "nbformat": 4,
 "nbformat_minor": 5
}
